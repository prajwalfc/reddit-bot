{
 "cells": [
  {
   "cell_type": "code",
   "execution_count": 1,
   "metadata": {},
   "outputs": [
    {
     "data": {
      "text/html": [
       "\n",
       "        <div>\n",
       "            <p><b>SparkContext</b></p>\n",
       "\n",
       "            <p><a href=\"http://ec2-3-211-28-212.compute-1.amazonaws.com:4040\">Spark UI</a></p>\n",
       "\n",
       "            <dl>\n",
       "              <dt>Version</dt>\n",
       "                <dd><code>v2.3.1</code></dd>\n",
       "              <dt>Master</dt>\n",
       "                <dd><code>spark://ip-10-0-0-13:7077</code></dd>\n",
       "              <dt>AppName</dt>\n",
       "                <dd><code>PySparkShell</code></dd>\n",
       "            </dl>\n",
       "        </div>\n",
       "        "
      ],
      "text/plain": [
       "<SparkContext master=spark://ip-10-0-0-13:7077 appName=PySparkShell>"
      ]
     },
     "execution_count": 1,
     "metadata": {},
     "output_type": "execute_result"
    }
   ],
   "source": [
    "sc"
   ]
  },
  {
   "cell_type": "code",
   "execution_count": 52,
   "metadata": {},
   "outputs": [
    {
     "name": "stdout",
     "output_type": "stream",
     "text": [
      "+--------+------------------+----------------------+--------------------+--------------------+----------------+-----------+-------------+------+-------+---------+----------+------------+-----+--------------------+------------+\n",
      "|archived|            author|author_flair_css_class|   author_flair_text|                body|controversiality|created_utc|distinguished|gilded|     id|  link_id| parent_id|retrieved_on|score|           subreddit|subreddit_id|\n",
      "+--------+------------------+----------------------+--------------------+--------------------+----------------+-----------+-------------+------+-------+---------+----------+------------+-----+--------------------+------------+\n",
      "|    null|    Ninja-Feedback|                  null|                null|I see. But Chuck ...|               0| 1555632000|         null|     0|el88se5|t3_bekkr7|t1_el7zv9x|  1558695677|    5|        DnDGreentext|    t5_3128p|\n",
      "|    null|         mcziggy87|                  null|                null|Monster Hunter Se...|               0| 1555632001|         null|     0|el88seq|t3_beqsta| t3_beqsta|  1558695678|    3|        dresdenfiles|    t5_2s64c|\n",
      "|    null|A_Union_Of_Kobolds|                  null|                null|I have a PFJ hat ...|               0| 1555632001|         null|     0|el88sf4|t3_beflxe|t1_el6iigg|  1558695678|    1| LateStageCapitalism|    t5_39qgx|\n",
      "|    null|          gifv-bot|                  null|                null|[GIFV link](https...|               0| 1555632002|         null|     0|el88sgi|t3_besn49| t3_besn49|  1558695678|    7|   StreamersGoneWild|    t5_36ocn|\n",
      "|    null|      thetwigman21|                  null|                null|Thank you upvote ...|               0| 1555632002|         null|     0|el88she|t3_ber8kc|t1_el80omf|  1558695679|   16|    Whatcouldgowrong|    t5_2x2oy|\n",
      "|    null|       bmorepirate|                  null|                null|Needs more fly on...|               0| 1555632003|         null|     0|el88si9|t3_bes0tr| t3_bes0tr|  1558695679|    6|          The_Donald|    t5_38unr|\n",
      "|    null|         [deleted]|                  null|                null|           [removed]|               0| 1555632003|         null|     0|el88siu|t3_beo15l| t3_beo15l|  1555755795|    1|           EspnSport|    t5_zn26p|\n",
      "|    null|        takennekat|                  null|                null|The reflections o...|               0| 1555632004|         null|     0|el88sl0|t3_beq9c9| t3_beq9c9|  1558695680|  368|      thalassophobia|    t5_2xfs1|\n",
      "|    null|          Jake1723|                  xbox|Painted Dougnuts ...|Ok I can 8k  in a...|               0| 1555632007|         null|     0|el88spt|t3_bes6a8|t1_el88pzp|  1558695682|    2|RocketLeagueExchange|    t5_3g4tc|\n",
      "|    null|     HamsterLord44|                  null|                null|You do know that ...|               0| 1555632007|         null|     0|el88sq4|t3_bemu1u|t1_el7f3r7|  1558695682|    2|                 aww|    t5_2qh1o|\n",
      "|    null|            Zozbot|                  null|         Sir ZozaLot|                 zle|               0| 1555632007|         null|     0|el88sqd|t3_bepkud|t1_el88spy|  1558695682|    5|               Drama|    t5_2rd2l|\n",
      "|    null|         peekabook|                  null|                null|Agree - I have to...|               0| 1555632008|         null|     0|el88ss6|t3_ben4qk|t1_el7a2g6|  1558695683|    1|     ChoosingBeggars|    t5_35fmc|\n",
      "|    null|       autodeicide|                  null|                null|You can't even po...|               0| 1555632008|         null|     0|el88ssb|t3_berjy4|t1_el88p78|  1558695683|    1|           AskReddit|    t5_2qh1i|\n",
      "|    null|    tacoenthusiast|                  null|                null|At one point he s...|               0| 1555632008|         null|     0|el88ssf|t3_beqzci|t1_el803kr|  1558695683|    3|              videos|    t5_2qh1e|\n",
      "|    null|      BesottedScot|                  null|                null|              Socks.|               0| 1555632009|         null|     0|el88ssl|t3_beo0p8|t1_el77uwe|  1558695683|    1|                cats|    t5_2qhta|\n",
      "|    null|         WeaponexT|                eagles|              Eagles|I'm not going any...|               0| 1555632009|         null|     0|el88su3|t3_benmc7|t1_el888gz|  1558695683|    6|                 nfl|    t5_2qmg3|\n",
      "|    null|    RandomSoulLost|                  null|                null|What a beautiful ...|               0| 1555632011|         null|     0|el88svr|t3_beqnoa| t3_beqnoa|  1558695684|    3|                food|    t5_2qh55|\n",
      "|    null|        lerobinbot|                  null|                null|                nice|               0| 1555632012|         null|     0|el88sxy|t3_besn0z| t3_besn0z|  1558695685|    2|    quityourbullshit|    t5_2y8xf|\n",
      "|    null|           kryonik|                  null|                null|        Gre-he-heasy|               0| 1555632013|         null|     0|el88szf|t3_bem7mh|t1_el83rnb|  1558695685|    8|            pcgaming|    t5_2qhfg|\n",
      "|    null|        ZephyrBluu|                  null|                null|In my (limited) u...|               0| 1555632013|         null|     0|el88t1a|t3_ben8gw|t1_el88ek8|  1558695686|    1|              webdev|    t5_2qs0q|\n",
      "+--------+------------------+----------------------+--------------------+--------------------+----------------+-----------+-------------+------+-------+---------+----------+------------+-----+--------------------+------------+\n",
      "only showing top 20 rows\n",
      "\n"
     ]
    }
   ],
   "source": [
    "path = \"s3n://prajwalfc/dd/temp/temp000000000000\"\n",
    "raw = spark.read.json(path)\n",
    "raw.show()"
   ]
  },
  {
   "cell_type": "code",
   "execution_count": 53,
   "metadata": {},
   "outputs": [
    {
     "data": {
      "text/plain": [
       "[('archived', 'boolean'),\n",
       " ('author', 'string'),\n",
       " ('author_flair_css_class', 'string'),\n",
       " ('author_flair_text', 'string'),\n",
       " ('body', 'string'),\n",
       " ('controversiality', 'string'),\n",
       " ('created_utc', 'string'),\n",
       " ('distinguished', 'string'),\n",
       " ('gilded', 'string'),\n",
       " ('id', 'string'),\n",
       " ('link_id', 'string'),\n",
       " ('parent_id', 'string'),\n",
       " ('retrieved_on', 'string'),\n",
       " ('score', 'string'),\n",
       " ('subreddit', 'string'),\n",
       " ('subreddit_id', 'string')]"
      ]
     },
     "execution_count": 53,
     "metadata": {},
     "output_type": "execute_result"
    }
   ],
   "source": [
    "raw.dtypes"
   ]
  },
  {
   "cell_type": "code",
   "execution_count": 54,
   "metadata": {},
   "outputs": [
    {
     "name": "stdout",
     "output_type": "stream",
     "text": [
      "+--------------------+------------------+------------+--------------------+\n",
      "|                body|            author|subreddit_id|           subreddit|\n",
      "+--------------------+------------------+------------+--------------------+\n",
      "|I see. But Chuck ...|    Ninja-Feedback|    t5_3128p|        DnDGreentext|\n",
      "|Monster Hunter Se...|         mcziggy87|    t5_2s64c|        dresdenfiles|\n",
      "|I have a PFJ hat ...|A_Union_Of_Kobolds|    t5_39qgx| LateStageCapitalism|\n",
      "|[GIFV link](https...|          gifv-bot|    t5_36ocn|   StreamersGoneWild|\n",
      "|Thank you upvote ...|      thetwigman21|    t5_2x2oy|    Whatcouldgowrong|\n",
      "|Needs more fly on...|       bmorepirate|    t5_38unr|          The_Donald|\n",
      "|           [removed]|         [deleted]|    t5_zn26p|           EspnSport|\n",
      "|The reflections o...|        takennekat|    t5_2xfs1|      thalassophobia|\n",
      "|Ok I can 8k  in a...|          Jake1723|    t5_3g4tc|RocketLeagueExchange|\n",
      "|You do know that ...|     HamsterLord44|    t5_2qh1o|                 aww|\n",
      "|                 zle|            Zozbot|    t5_2rd2l|               Drama|\n",
      "|Agree - I have to...|         peekabook|    t5_35fmc|     ChoosingBeggars|\n",
      "|You can't even po...|       autodeicide|    t5_2qh1i|           AskReddit|\n",
      "|At one point he s...|    tacoenthusiast|    t5_2qh1e|              videos|\n",
      "|              Socks.|      BesottedScot|    t5_2qhta|                cats|\n",
      "|I'm not going any...|         WeaponexT|    t5_2qmg3|                 nfl|\n",
      "|What a beautiful ...|    RandomSoulLost|    t5_2qh55|                food|\n",
      "|                nice|        lerobinbot|    t5_2y8xf|    quityourbullshit|\n",
      "|        Gre-he-heasy|           kryonik|    t5_2qhfg|            pcgaming|\n",
      "|In my (limited) u...|        ZephyrBluu|    t5_2qs0q|              webdev|\n",
      "+--------------------+------------------+------------+--------------------+\n",
      "only showing top 20 rows\n",
      "\n"
     ]
    }
   ],
   "source": [
    "raw1 = raw.select(\"body\",\"author\",\"subreddit_id\",\"subreddit\")\n",
    "raw1.show()"
   ]
  },
  {
   "cell_type": "code",
   "execution_count": 55,
   "metadata": {},
   "outputs": [],
   "source": [
    "rdd = raw1.rdd"
   ]
  },
  {
   "cell_type": "code",
   "execution_count": 56,
   "metadata": {},
   "outputs": [
    {
     "data": {
      "text/plain": [
       "[Row(body='I see. But Chuck Norris doesn’t need magic.', author='Ninja-Feedback', subreddit_id='t5_3128p', subreddit='DnDGreentext'),\n",
       " Row(body='Monster Hunter Series is fantastic.', author='mcziggy87', subreddit_id='t5_2s64c', subreddit='dresdenfiles'),\n",
       " Row(body='I have a PFJ hat and I love it.\\n\\nThat being said, the veiled transphobia in the movie didn\\'t age great. Also, the \"what have the Romans ever done for *us??*\" bit is pretty liberal', author='A_Union_Of_Kobolds', subreddit_id='t5_39qgx', subreddit='LateStageCapitalism'),\n",
       " Row(body='[GIFV link](https://i.imgur.com/5eZ6iYp.gifv)\\r\\n\\r\\n---\\r\\n\\r\\n_^I ^am ^a ^bot. ^[FAQ](https://www.reddit.com/r/livven/wiki/gifv-bot) ^// ^[code](https://github.com/Livven/GifvBot)_', author='gifv-bot', subreddit_id='t5_36ocn', subreddit='StreamersGoneWild'),\n",
       " Row(body='Thank you upvote czar.', author='thetwigman21', subreddit_id='t5_2x2oy', subreddit='Whatcouldgowrong'),\n",
       " Row(body='Needs more fly on face.', author='bmorepirate', subreddit_id='t5_38unr', subreddit='The_Donald'),\n",
       " Row(body='[removed]', author='[deleted]', subreddit_id='t5_zn26p', subreddit='EspnSport'),\n",
       " Row(body='The reflections of the other birds sailing past the dead one gave me chills', author='takennekat', subreddit_id='t5_2xfs1', subreddit='thalassophobia'),\n",
       " Row(body='Ok I can 8k  in a little bit. Gt: The Best Elmo. Give me 20 mins', author='Jake1723', subreddit_id='t5_3g4tc', subreddit='RocketLeagueExchange'),\n",
       " Row(body=\"You do know that being an omnivore means you can get all your energy from plants, right? That's what omnivore means. Unless you mean obligate omnivore, which is just blatantly incorrect\", author='HamsterLord44', subreddit_id='t5_2qh1o', subreddit='aww')]"
      ]
     },
     "execution_count": 56,
     "metadata": {},
     "output_type": "execute_result"
    }
   ],
   "source": [
    "rdd.take(10)"
   ]
  },
  {
   "cell_type": "code",
   "execution_count": 108,
   "metadata": {},
   "outputs": [],
   "source": [
    "rdd1 = rdd.map(lambda x:(x['author'],((x['body'],x['subreddit_id'].split('_')[1],x['subreddit']),)))"
   ]
  },
  {
   "cell_type": "code",
   "execution_count": 109,
   "metadata": {
    "scrolled": true
   },
   "outputs": [
    {
     "data": {
      "text/plain": [
       "[('Ninja-Feedback',\n",
       "  (('I see. But Chuck Norris doesn’t need magic.', '3128p', 'DnDGreentext'),)),\n",
       " ('mcziggy87',\n",
       "  (('Monster Hunter Series is fantastic.', '2s64c', 'dresdenfiles'),)),\n",
       " ('A_Union_Of_Kobolds',\n",
       "  (('I have a PFJ hat and I love it.\\n\\nThat being said, the veiled transphobia in the movie didn\\'t age great. Also, the \"what have the Romans ever done for *us??*\" bit is pretty liberal',\n",
       "    '39qgx',\n",
       "    'LateStageCapitalism'),)),\n",
       " ('gifv-bot',\n",
       "  (('[GIFV link](https://i.imgur.com/5eZ6iYp.gifv)\\r\\n\\r\\n---\\r\\n\\r\\n_^I ^am ^a ^bot. ^[FAQ](https://www.reddit.com/r/livven/wiki/gifv-bot) ^// ^[code](https://github.com/Livven/GifvBot)_',\n",
       "    '36ocn',\n",
       "    'StreamersGoneWild'),)),\n",
       " ('thetwigman21', (('Thank you upvote czar.', '2x2oy', 'Whatcouldgowrong'),)),\n",
       " ('bmorepirate', (('Needs more fly on face.', '38unr', 'The_Donald'),)),\n",
       " ('[deleted]', (('[removed]', 'zn26p', 'EspnSport'),)),\n",
       " ('takennekat',\n",
       "  (('The reflections of the other birds sailing past the dead one gave me chills',\n",
       "    '2xfs1',\n",
       "    'thalassophobia'),)),\n",
       " ('Jake1723',\n",
       "  (('Ok I can 8k  in a little bit. Gt: The Best Elmo. Give me 20 mins',\n",
       "    '3g4tc',\n",
       "    'RocketLeagueExchange'),)),\n",
       " ('HamsterLord44',\n",
       "  ((\"You do know that being an omnivore means you can get all your energy from plants, right? That's what omnivore means. Unless you mean obligate omnivore, which is just blatantly incorrect\",\n",
       "    '2qh1o',\n",
       "    'aww'),))]"
      ]
     },
     "execution_count": 109,
     "metadata": {},
     "output_type": "execute_result"
    }
   ],
   "source": [
    "rdd1.take(10)"
   ]
  },
  {
   "cell_type": "code",
   "execution_count": 112,
   "metadata": {
    "scrolled": true
   },
   "outputs": [],
   "source": [
    "rdd2 = rdd1.filter(lambda x:x[0]!='[removed]'or x[1][0][0]!='[deleted]').reduceByKey(lambda x,y:x+y).take(10)"
   ]
  },
  {
   "cell_type": "code",
   "execution_count": 105,
   "metadata": {},
   "outputs": [],
   "source": [
    "x =(3,)"
   ]
  },
  {
   "cell_type": "code",
   "execution_count": 106,
   "metadata": {},
   "outputs": [
    {
     "data": {
      "text/plain": [
       "1"
      ]
     },
     "execution_count": 106,
     "metadata": {},
     "output_type": "execute_result"
    }
   ],
   "source": [
    "len(x)"
   ]
  },
  {
   "cell_type": "code",
   "execution_count": null,
   "metadata": {},
   "outputs": [],
   "source": []
  }
 ],
 "metadata": {
  "kernelspec": {
   "display_name": "Python 3",
   "language": "python",
   "name": "python3"
  },
  "language_info": {
   "codemirror_mode": {
    "name": "ipython",
    "version": 3
   },
   "file_extension": ".py",
   "mimetype": "text/x-python",
   "name": "python",
   "nbconvert_exporter": "python",
   "pygments_lexer": "ipython3",
   "version": "3.5.2"
  }
 },
 "nbformat": 4,
 "nbformat_minor": 2
}
